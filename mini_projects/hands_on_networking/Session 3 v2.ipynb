{
 "cells": [
  {
   "cell_type": "markdown",
   "metadata": {},
   "source": [
    "## Lab Setup"
   ]
  },
  {
   "cell_type": "markdown",
   "metadata": {},
   "source": [
    "![title](Lab_Setup_Session3.PNG)"
   ]
  },
  {
   "cell_type": "markdown",
   "metadata": {},
   "source": [
    "R1 - Juniper vMX router\n",
    "\n",
    "R2 - Cisco XRv router\n",
    "\n",
    "R3 - Juniper vMX router\n",
    "\n",
    "r4 - vCSR IOS-XE cisco router"
   ]
  },
  {
   "cell_type": "markdown",
   "metadata": {},
   "source": [
    "## Netmiko tutorial"
   ]
  },
  {
   "cell_type": "code",
   "execution_count": null,
   "metadata": {},
   "outputs": [],
   "source": [
    "# Supported platforms \n",
    "# https://ktbyers.github.io/netmiko/PLATFORMS.html\n",
    "# https://ktbyers.github.io/netmiko/docs/netmiko/index.html"
   ]
  },
  {
   "cell_type": "code",
   "execution_count": null,
   "metadata": {},
   "outputs": [],
   "source": [
    "# import netmiko python module\n",
    "\n",
    "from netmiko import ConnectHandler"
   ]
  },
  {
   "cell_type": "code",
   "execution_count": null,
   "metadata": {},
   "outputs": [],
   "source": [
    "r2 = {'device_type': 'cisco_xr', 'host': '121.74.1.4', 'username': 'admin', 'password': 'admin123', 'port': '2022'}  "
   ]
  },
  {
   "cell_type": "code",
   "execution_count": 19,
   "metadata": {},
   "outputs": [],
   "source": [
    "net_connect_r2 = ConnectHandler(**r2) "
   ]
  },
  {
   "cell_type": "code",
   "execution_count": 20,
   "metadata": {},
   "outputs": [],
   "source": [
    "# Send a command to the router\n",
    "output = net_connect_r2.send_command(\"show ipv4 interface brief\")"
   ]
  },
  {
   "cell_type": "code",
   "execution_count": 21,
   "metadata": {},
   "outputs": [
    {
     "name": "stdout",
     "output_type": "stream",
     "text": [
      "Wed Apr 28 22:43:40.447 UTC\n",
      "\n",
      "Interface                      IP-Address      Status          Protocol Vrf-Name\n",
      "MgmtEth0/RP0/CPU0/0            192.168.68.241  Up              Up       default \n",
      "GigabitEthernet0/0/0/0         unassigned      Up              Up       default \n",
      "GigabitEthernet0/0/0/1         unassigned      Shutdown        Down     default \n",
      "GigabitEthernet0/0/0/2         unassigned      Up              Up       default \n",
      "GigabitEthernet0/0/0/3         unassigned      Shutdown        Down     default \n"
     ]
    }
   ],
   "source": [
    "print(output)"
   ]
  },
  {
   "cell_type": "code",
   "execution_count": 6,
   "metadata": {},
   "outputs": [],
   "source": [
    "# Save output to text flie\n",
    "with open('out.txt', 'w') as f:\n",
    "    f.write(output)"
   ]
  },
  {
   "cell_type": "code",
   "execution_count": null,
   "metadata": {},
   "outputs": [],
   "source": []
  },
  {
   "cell_type": "code",
   "execution_count": 7,
   "metadata": {},
   "outputs": [],
   "source": [
    "## Configure router using Netmiko\n",
    "\n",
    "config_commands = ['logging 1.1.1.1 vrf default', 'hostname R2', 'commit', 'end']\n",
    "\n",
    "config = net_connect_r2.send_config_set(config_commands)\n"
   ]
  },
  {
   "cell_type": "code",
   "execution_count": 8,
   "metadata": {},
   "outputs": [
    {
     "name": "stdout",
     "output_type": "stream",
     "text": [
      "configure terminal\n",
      "\n",
      "Wed Apr 28 22:33:21.411 UTC\n",
      "RP/0/RP0/CPU0:ASR9K(config)#logging 1.1.1.1 vrf default\n",
      "\n",
      "RP/0/RP0/CPU0:ASR9K(config)#hostname R2\n",
      "\n",
      "RP/0/RP0/CPU0:ASR9K(config)#commit\n",
      "\n",
      "Wed Apr 28 22:33:24.615 UTC\n",
      "RP/0/RP0/CPU0:R2(config)#end\n",
      "\n",
      "RP/0/RP0/CPU0:R2#\n"
     ]
    }
   ],
   "source": [
    "print (config)"
   ]
  },
  {
   "cell_type": "code",
   "execution_count": null,
   "metadata": {},
   "outputs": [],
   "source": []
  },
  {
   "cell_type": "code",
   "execution_count": 9,
   "metadata": {},
   "outputs": [],
   "source": [
    "## Verify the output\n",
    "x = net_connect_r2.send_command(\"show run | i logg\")"
   ]
  },
  {
   "cell_type": "code",
   "execution_count": 10,
   "metadata": {},
   "outputs": [
    {
     "name": "stdout",
     "output_type": "stream",
     "text": [
      "Wed Apr 28 22:34:23.140 UTC\n",
      "Building configuration...\n",
      "logging 1.1.1.1 vrf default\n",
      "RP/0/RP0/CPU0:R2#\n"
     ]
    }
   ],
   "source": [
    "print (x)"
   ]
  },
  {
   "cell_type": "code",
   "execution_count": 17,
   "metadata": {},
   "outputs": [],
   "source": [
    "# Disconnect the SSH session\n",
    "net_connect_r2.disconnect() "
   ]
  },
  {
   "cell_type": "markdown",
   "metadata": {},
   "source": [
    "###### Note : To get the configuration commands from file use \n",
    "\n",
    "net_connect.send_config_from_file() "
   ]
  },
  {
   "cell_type": "code",
   "execution_count": null,
   "metadata": {},
   "outputs": [],
   "source": []
  },
  {
   "cell_type": "markdown",
   "metadata": {},
   "source": [
    "## How to turn router output to Python dict\n",
    "Answer : use_textfsm=True"
   ]
  },
  {
   "cell_type": "code",
   "execution_count": 22,
   "metadata": {},
   "outputs": [],
   "source": [
    "r4 = {'device_type': 'cisco_ios', 'host': '121.74.1.4', 'username': 'admin', 'password': 'admin123', 'port': '2024'}  "
   ]
  },
  {
   "cell_type": "code",
   "execution_count": 23,
   "metadata": {},
   "outputs": [],
   "source": [
    "net_connect_r4 = ConnectHandler(**r4) \n",
    "result = net_connect_r4.send_command(\"show ip interface brief\", use_textfsm=True)"
   ]
  },
  {
   "cell_type": "code",
   "execution_count": 24,
   "metadata": {},
   "outputs": [
    {
     "name": "stdout",
     "output_type": "stream",
     "text": [
      "[{'intf': 'GigabitEthernet1', 'ipaddr': 'unassigned', 'status': 'up', 'proto': 'up'}, {'intf': 'GigabitEthernet2', 'ipaddr': 'unassigned', 'status': 'up', 'proto': 'up'}, {'intf': 'GigabitEthernet3', 'ipaddr': 'unassigned', 'status': 'up', 'proto': 'up'}, {'intf': 'GigabitEthernet4', 'ipaddr': '192.168.68.234', 'status': 'up', 'proto': 'up'}]\n"
     ]
    }
   ],
   "source": [
    "print(result)"
   ]
  },
  {
   "cell_type": "code",
   "execution_count": 25,
   "metadata": {},
   "outputs": [
    {
     "name": "stdout",
     "output_type": "stream",
     "text": [
      "[\n",
      "  {\n",
      "    \"intf\": \"GigabitEthernet1\",\n",
      "    \"ipaddr\": \"unassigned\",\n",
      "    \"status\": \"up\",\n",
      "    \"proto\": \"up\"\n",
      "  },\n",
      "  {\n",
      "    \"intf\": \"GigabitEthernet2\",\n",
      "    \"ipaddr\": \"unassigned\",\n",
      "    \"status\": \"up\",\n",
      "    \"proto\": \"up\"\n",
      "  },\n",
      "  {\n",
      "    \"intf\": \"GigabitEthernet3\",\n",
      "    \"ipaddr\": \"unassigned\",\n",
      "    \"status\": \"up\",\n",
      "    \"proto\": \"up\"\n",
      "  },\n",
      "  {\n",
      "    \"intf\": \"GigabitEthernet4\",\n",
      "    \"ipaddr\": \"192.168.68.234\",\n",
      "    \"status\": \"up\",\n",
      "    \"proto\": \"up\"\n",
      "  }\n",
      "]\n"
     ]
    }
   ],
   "source": [
    "# print as JSON\n",
    "import json\n",
    "print(json.dumps(result, indent=2))"
   ]
  },
  {
   "cell_type": "code",
   "execution_count": 26,
   "metadata": {},
   "outputs": [],
   "source": [
    "x = result = net_connect_r4.send_command(\"show interfaces\", use_textfsm=True)"
   ]
  },
  {
   "cell_type": "code",
   "execution_count": 27,
   "metadata": {},
   "outputs": [
    {
     "data": {
      "text/plain": [
       "[{'interface': 'GigabitEthernet1',\n",
       "  'link_status': 'up',\n",
       "  'protocol_status': 'up',\n",
       "  'hardware_type': 'CSR vNIC',\n",
       "  'address': '5000.0006.0000',\n",
       "  'bia': '5000.0006.0000',\n",
       "  'description': 'test1',\n",
       "  'ip_address': '',\n",
       "  'mtu': '1500',\n",
       "  'duplex': 'Full Duplex',\n",
       "  'speed': '1000Mbps',\n",
       "  'media_type': 'Virtual',\n",
       "  'bandwidth': '1000000 Kbit',\n",
       "  'delay': '10 usec',\n",
       "  'encapsulation': 'ARPA',\n",
       "  'last_input': 'never',\n",
       "  'last_output': 'never',\n",
       "  'last_output_hang': 'never',\n",
       "  'queue_strategy': 'fifo',\n",
       "  'input_rate': '0',\n",
       "  'output_rate': '0',\n",
       "  'input_packets': '0',\n",
       "  'output_packets': '0',\n",
       "  'input_errors': '0',\n",
       "  'crc': '0',\n",
       "  'abort': '',\n",
       "  'output_errors': '0'},\n",
       " {'interface': 'GigabitEthernet2',\n",
       "  'link_status': 'up',\n",
       "  'protocol_status': 'up',\n",
       "  'hardware_type': 'CSR vNIC',\n",
       "  'address': '5000.0006.0001',\n",
       "  'bia': '5000.0006.0001',\n",
       "  'description': '',\n",
       "  'ip_address': '',\n",
       "  'mtu': '1500',\n",
       "  'duplex': 'Full Duplex',\n",
       "  'speed': '1000Mbps',\n",
       "  'media_type': 'Virtual',\n",
       "  'bandwidth': '1000000 Kbit',\n",
       "  'delay': '10 usec',\n",
       "  'encapsulation': 'ARPA',\n",
       "  'last_input': 'never',\n",
       "  'last_output': 'never',\n",
       "  'last_output_hang': 'never',\n",
       "  'queue_strategy': 'fifo',\n",
       "  'input_rate': '0',\n",
       "  'output_rate': '0',\n",
       "  'input_packets': '0',\n",
       "  'output_packets': '0',\n",
       "  'input_errors': '0',\n",
       "  'crc': '0',\n",
       "  'abort': '',\n",
       "  'output_errors': '0'},\n",
       " {'interface': 'GigabitEthernet3',\n",
       "  'link_status': 'up',\n",
       "  'protocol_status': 'up',\n",
       "  'hardware_type': 'CSR vNIC',\n",
       "  'address': '5000.0006.0002',\n",
       "  'bia': '5000.0006.0002',\n",
       "  'description': '',\n",
       "  'ip_address': '',\n",
       "  'mtu': '1500',\n",
       "  'duplex': 'Full Duplex',\n",
       "  'speed': '1000Mbps',\n",
       "  'media_type': 'Virtual',\n",
       "  'bandwidth': '1000000 Kbit',\n",
       "  'delay': '10 usec',\n",
       "  'encapsulation': 'ARPA',\n",
       "  'last_input': 'never',\n",
       "  'last_output': 'never',\n",
       "  'last_output_hang': 'never',\n",
       "  'queue_strategy': 'fifo',\n",
       "  'input_rate': '0',\n",
       "  'output_rate': '0',\n",
       "  'input_packets': '0',\n",
       "  'output_packets': '0',\n",
       "  'input_errors': '0',\n",
       "  'crc': '0',\n",
       "  'abort': '',\n",
       "  'output_errors': '0'},\n",
       " {'interface': 'GigabitEthernet4',\n",
       "  'link_status': 'up',\n",
       "  'protocol_status': 'up',\n",
       "  'hardware_type': 'CSR vNIC',\n",
       "  'address': '5000.0006.0003',\n",
       "  'bia': '5000.0006.0003',\n",
       "  'description': '',\n",
       "  'ip_address': '192.168.68.234/24',\n",
       "  'mtu': '1500',\n",
       "  'duplex': 'Full Duplex',\n",
       "  'speed': '1000Mbps',\n",
       "  'media_type': 'Virtual',\n",
       "  'bandwidth': '1000000 Kbit',\n",
       "  'delay': '10 usec',\n",
       "  'encapsulation': 'ARPA',\n",
       "  'last_input': '00:00:00',\n",
       "  'last_output': '00:00:00',\n",
       "  'last_output_hang': 'never',\n",
       "  'queue_strategy': 'fifo',\n",
       "  'input_rate': '3000',\n",
       "  'output_rate': '1000',\n",
       "  'input_packets': '99404',\n",
       "  'output_packets': '31005',\n",
       "  'input_errors': '0',\n",
       "  'crc': '0',\n",
       "  'abort': '',\n",
       "  'output_errors': '0'}]"
      ]
     },
     "execution_count": 27,
     "metadata": {},
     "output_type": "execute_result"
    }
   ],
   "source": [
    "x"
   ]
  },
  {
   "cell_type": "code",
   "execution_count": 28,
   "metadata": {},
   "outputs": [
    {
     "data": {
      "text/plain": [
       "list"
      ]
     },
     "execution_count": 28,
     "metadata": {},
     "output_type": "execute_result"
    }
   ],
   "source": [
    "type(x)"
   ]
  },
  {
   "cell_type": "code",
   "execution_count": 29,
   "metadata": {},
   "outputs": [
    {
     "data": {
      "text/plain": [
       "'GigabitEthernet1 MAC address is 5000.0006.0000'"
      ]
     },
     "execution_count": 29,
     "metadata": {},
     "output_type": "execute_result"
    }
   ],
   "source": [
    "x[0][\"interface\"] + \" MAC address is \" + x[0][\"address\"]"
   ]
  },
  {
   "cell_type": "code",
   "execution_count": 30,
   "metadata": {},
   "outputs": [
    {
     "name": "stdout",
     "output_type": "stream",
     "text": [
      "GigabitEthernet1\n",
      "GigabitEthernet2\n",
      "GigabitEthernet3\n",
      "GigabitEthernet4\n"
     ]
    }
   ],
   "source": [
    "for entry in x:\n",
    "    print(entry[\"interface\"])"
   ]
  },
  {
   "cell_type": "code",
   "execution_count": null,
   "metadata": {},
   "outputs": [],
   "source": [
    "net_connect_r4.disconnect()"
   ]
  },
  {
   "cell_type": "code",
   "execution_count": null,
   "metadata": {},
   "outputs": [],
   "source": []
  },
  {
   "cell_type": "markdown",
   "metadata": {},
   "source": [
    "### Hands-on Exercise :)"
   ]
  },
  {
   "cell_type": "code",
   "execution_count": null,
   "metadata": {},
   "outputs": [],
   "source": []
  },
  {
   "cell_type": "markdown",
   "metadata": {},
   "source": [
    "## NAPALM\n"
   ]
  },
  {
   "cell_type": "markdown",
   "metadata": {},
   "source": [
    "![title](napalm.png)"
   ]
  },
  {
   "cell_type": "markdown",
   "metadata": {},
   "source": [
    "##### Example"
   ]
  },
  {
   "cell_type": "markdown",
   "metadata": {},
   "source": [
    "Documentation:\n",
    "\n",
    "https://napalm.readthedocs.io/en/latest/"
   ]
  },
  {
   "cell_type": "code",
   "execution_count": 31,
   "metadata": {},
   "outputs": [],
   "source": [
    "# use \"python -m pip install napalm --user\" to install the python package from \"Anaconda prompt\"\n",
    "from napalm import get_network_driver"
   ]
  },
  {
   "cell_type": "code",
   "execution_count": 32,
   "metadata": {},
   "outputs": [],
   "source": [
    "# get the correct network driver.\n",
    "driver = get_network_driver('iosxr')"
   ]
  },
  {
   "cell_type": "code",
   "execution_count": 33,
   "metadata": {},
   "outputs": [],
   "source": [
    "r2 = driver(hostname='121.74.1.4', username='admin', password='admin123', optional_args={'port':2022})"
   ]
  },
  {
   "cell_type": "code",
   "execution_count": 34,
   "metadata": {},
   "outputs": [],
   "source": [
    "r2.open()"
   ]
  },
  {
   "cell_type": "code",
   "execution_count": 35,
   "metadata": {},
   "outputs": [
    {
     "data": {
      "text/plain": [
       "{'vendor': 'Cisco',\n",
       " 'os_version': '6.5.1',\n",
       " 'hostname': 'ASR9K',\n",
       " 'uptime': 44359,\n",
       " 'serial_number': 'C42C8A16B8A',\n",
       " 'fqdn': 'ASR9K',\n",
       " 'model': 'R-IOSXRV9000-CC',\n",
       " 'interface_list': ['GigabitEthernet0/0/0/0',\n",
       "  'GigabitEthernet0/0/0/1',\n",
       "  'GigabitEthernet0/0/0/2',\n",
       "  'GigabitEthernet0/0/0/3',\n",
       "  'MgmtEth0/RP0/CPU0/0',\n",
       "  'Null0']}"
      ]
     },
     "execution_count": 35,
     "metadata": {},
     "output_type": "execute_result"
    }
   ],
   "source": [
    "r2.get_facts()"
   ]
  },
  {
   "cell_type": "code",
   "execution_count": 36,
   "metadata": {},
   "outputs": [
    {
     "name": "stdout",
     "output_type": "stream",
     "text": [
      "software version of ASR9K is 6.5.1\n"
     ]
    }
   ],
   "source": [
    "# get software version\n",
    "x = r2.get_facts()\n",
    "print(\"software version of \" + x['hostname'] + \" is \" + x['os_version'])"
   ]
  },
  {
   "cell_type": "code",
   "execution_count": null,
   "metadata": {},
   "outputs": [],
   "source": []
  },
  {
   "cell_type": "code",
   "execution_count": null,
   "metadata": {},
   "outputs": [],
   "source": []
  },
  {
   "cell_type": "code",
   "execution_count": 37,
   "metadata": {},
   "outputs": [],
   "source": [
    "driver_r1 = get_network_driver('junos')\n",
    "r1 = driver_r1(hostname='121.74.1.4', username='admin', password='admin123', optional_args={'port':2021})"
   ]
  },
  {
   "cell_type": "code",
   "execution_count": 38,
   "metadata": {},
   "outputs": [],
   "source": [
    "r1.open()"
   ]
  },
  {
   "cell_type": "code",
   "execution_count": 39,
   "metadata": {},
   "outputs": [
    {
     "data": {
      "text/plain": [
       "{'vendor': 'Juniper',\n",
       " 'model': 'VMX',\n",
       " 'serial_number': 'VM5FC09AC680',\n",
       " 'os_version': '18.2R1.9',\n",
       " 'hostname': 'vMX1',\n",
       " 'fqdn': 'vMX1',\n",
       " 'uptime': 44630,\n",
       " 'interface_list': ['ge-0/0/0',\n",
       "  'lc-0/0/0',\n",
       "  'pfe-0/0/0',\n",
       "  'pfh-0/0/0',\n",
       "  'ge-0/0/1',\n",
       "  'ge-0/0/2',\n",
       "  'ge-0/0/3',\n",
       "  'ge-0/0/4',\n",
       "  'ge-0/0/5',\n",
       "  'ge-0/0/6',\n",
       "  'ge-0/0/7',\n",
       "  'ge-0/0/8',\n",
       "  'ge-0/0/9',\n",
       "  'cbp0',\n",
       "  'demux0',\n",
       "  'dsc',\n",
       "  'em1',\n",
       "  'esi',\n",
       "  'fti0',\n",
       "  'fti1',\n",
       "  'fti2',\n",
       "  'fti3',\n",
       "  'fti4',\n",
       "  'fti5',\n",
       "  'fti6',\n",
       "  'fti7',\n",
       "  'fxp0',\n",
       "  'gre',\n",
       "  'ipip',\n",
       "  'irb',\n",
       "  'jsrv',\n",
       "  'lo0',\n",
       "  'lsi',\n",
       "  'mtun',\n",
       "  'pimd',\n",
       "  'pime',\n",
       "  'pip0',\n",
       "  'pp0',\n",
       "  'rbeb',\n",
       "  'tap',\n",
       "  'vtep']}"
      ]
     },
     "execution_count": 39,
     "metadata": {},
     "output_type": "execute_result"
    }
   ],
   "source": [
    "r1.get_facts()"
   ]
  },
  {
   "cell_type": "code",
   "execution_count": 40,
   "metadata": {},
   "outputs": [
    {
     "data": {
      "text/plain": [
       "{'global': {'router_id': '1.1.1.1',\n",
       "  'peers': {'5.5.5.2': {'local_as': 100,\n",
       "    'remote_as': 100,\n",
       "    'remote_id': '3.3.3.3',\n",
       "    'is_up': True,\n",
       "    'is_enabled': True,\n",
       "    'description': '',\n",
       "    'uptime': 44119,\n",
       "    'address_family': {'ipv4': {'received_prefixes': 1,\n",
       "      'accepted_prefixes': 1,\n",
       "      'sent_prefixes': 1},\n",
       "     'ipv6': {'received_prefixes': -1,\n",
       "      'accepted_prefixes': -1,\n",
       "      'sent_prefixes': -1}}},\n",
       "   '6.6.6.2': {'local_as': 100,\n",
       "    'remote_as': 100,\n",
       "    'remote_id': '3.3.3.3',\n",
       "    'is_up': True,\n",
       "    'is_enabled': True,\n",
       "    'description': '',\n",
       "    'uptime': 44113,\n",
       "    'address_family': {'ipv4': {'received_prefixes': 1,\n",
       "      'accepted_prefixes': 1,\n",
       "      'sent_prefixes': 1},\n",
       "     'ipv6': {'received_prefixes': -1,\n",
       "      'accepted_prefixes': -1,\n",
       "      'sent_prefixes': -1}}}}}}"
      ]
     },
     "execution_count": 40,
     "metadata": {},
     "output_type": "execute_result"
    }
   ],
   "source": [
    "r1.get_bgp_neighbors()"
   ]
  },
  {
   "cell_type": "code",
   "execution_count": 41,
   "metadata": {},
   "outputs": [
    {
     "data": {
      "text/plain": [
       "{'global': {'peers': {}, 'router_id': ''}}"
      ]
     },
     "execution_count": 41,
     "metadata": {},
     "output_type": "execute_result"
    }
   ],
   "source": [
    "r2.get_bgp_neighbors()"
   ]
  },
  {
   "cell_type": "code",
   "execution_count": 42,
   "metadata": {},
   "outputs": [
    {
     "data": {
      "text/plain": [
       "[{'interface': 'ge-0/0/0.10',\n",
       "  'mac': '00:05:86:71:7F:00',\n",
       "  'ip': '5.5.5.2',\n",
       "  'age': 1212.0},\n",
       " {'interface': 'ge-0/0/0.100',\n",
       "  'mac': '00:05:86:71:7F:00',\n",
       "  'ip': '6.6.6.2',\n",
       "  'age': 499.0},\n",
       " {'interface': 'em1.0',\n",
       "  'mac': '50:00:00:02:00:01',\n",
       "  'ip': '128.0.0.16',\n",
       "  'age': None},\n",
       " {'interface': 'fxp0.0',\n",
       "  'mac': 'E4:C3:2A:C8:17:80',\n",
       "  'ip': '192.168.68.1',\n",
       "  'age': 1089.0}]"
      ]
     },
     "execution_count": 42,
     "metadata": {},
     "output_type": "execute_result"
    }
   ],
   "source": [
    "r1.get_arp_table()"
   ]
  },
  {
   "cell_type": "code",
   "execution_count": 43,
   "metadata": {},
   "outputs": [
    {
     "data": {
      "text/plain": [
       "[{'interface': 'MgmtEth0/RP0/CPU0/0',\n",
       "  'mac': 'E4:C3:2A:C8:17:80',\n",
       "  'ip': '192.168.68.1',\n",
       "  'age': 1.0},\n",
       " {'interface': 'MgmtEth0/RP0/CPU0/0',\n",
       "  'mac': '00:04:4B:5E:82:CE',\n",
       "  'ip': '192.168.68.51',\n",
       "  'age': 10719.0},\n",
       " {'interface': 'MgmtEth0/RP0/CPU0/0',\n",
       "  'mac': 'C8:D0:83:EB:DA:E0',\n",
       "  'ip': '192.168.68.53',\n",
       "  'age': 3542.0},\n",
       " {'interface': 'MgmtEth0/RP0/CPU0/0',\n",
       "  'mac': 'E4:C3:2A:C8:22:A8',\n",
       "  'ip': '192.168.68.54',\n",
       "  'age': 40824.0},\n",
       " {'interface': 'MgmtEth0/RP0/CPU0/0',\n",
       "  'mac': 'F2:F5:67:50:3E:F2',\n",
       "  'ip': '192.168.68.55',\n",
       "  'age': 4956.0},\n",
       " {'interface': 'MgmtEth0/RP0/CPU0/0',\n",
       "  'mac': '8C:2D:AA:59:C0:41',\n",
       "  'ip': '192.168.68.56',\n",
       "  'age': 648.0},\n",
       " {'interface': 'MgmtEth0/RP0/CPU0/0',\n",
       "  'mac': '5C:F6:DC:0B:8D:E9',\n",
       "  'ip': '192.168.68.57',\n",
       "  'age': 40412.0},\n",
       " {'interface': 'MgmtEth0/RP0/CPU0/0',\n",
       "  'mac': '50:1A:C5:5F:FF:99',\n",
       "  'ip': '192.168.68.58',\n",
       "  'age': 67.0},\n",
       " {'interface': 'MgmtEth0/RP0/CPU0/0',\n",
       "  'mac': 'E4:5E:37:BB:3D:3E',\n",
       "  'ip': '192.168.68.59',\n",
       "  'age': 28564.0},\n",
       " {'interface': 'MgmtEth0/RP0/CPU0/0',\n",
       "  'mac': '7A:30:5F:75:1A:67',\n",
       "  'ip': '192.168.68.60',\n",
       "  'age': 10902.0},\n",
       " {'interface': 'MgmtEth0/RP0/CPU0/0',\n",
       "  'mac': 'DC:89:83:2F:F0:77',\n",
       "  'ip': '192.168.68.62',\n",
       "  'age': 37145.0},\n",
       " {'interface': 'MgmtEth0/RP0/CPU0/0',\n",
       "  'mac': '0E:33:87:E1:4E:B5',\n",
       "  'ip': '192.168.68.63',\n",
       "  'age': 41880.0},\n",
       " {'interface': 'MgmtEth0/RP0/CPU0/0',\n",
       "  'mac': '8C:85:90:3C:05:FE',\n",
       "  'ip': '192.168.68.64',\n",
       "  'age': 14009.0},\n",
       " {'interface': 'MgmtEth0/RP0/CPU0/0',\n",
       "  'mac': '3C:22:FB:CF:AF:80',\n",
       "  'ip': '192.168.68.65',\n",
       "  'age': 13864.0},\n",
       " {'interface': 'MgmtEth0/RP0/CPU0/0',\n",
       "  'mac': '20:79:18:62:AE:DF',\n",
       "  'ip': '192.168.68.66',\n",
       "  'age': 9284.0},\n",
       " {'interface': 'MgmtEth0/RP0/CPU0/0',\n",
       "  'mac': '50:00:00:01:00:00',\n",
       "  'ip': '192.168.68.231',\n",
       "  'age': 41975.0},\n",
       " {'interface': 'MgmtEth0/RP0/CPU0/0',\n",
       "  'mac': '50:00:00:05:00:00',\n",
       "  'ip': '192.168.68.233',\n",
       "  'age': 12800.0},\n",
       " {'interface': 'MgmtEth0/RP0/CPU0/0',\n",
       "  'mac': '50:00:00:06:00:03',\n",
       "  'ip': '192.168.68.234',\n",
       "  'age': 42735.0},\n",
       " {'interface': 'MgmtEth0/RP0/CPU0/0',\n",
       "  'mac': '50:00:00:08:00:00',\n",
       "  'ip': '192.168.68.241',\n",
       "  'age': -1.0}]"
      ]
     },
     "execution_count": 43,
     "metadata": {},
     "output_type": "execute_result"
    }
   ],
   "source": [
    "r2.get_arp_table()"
   ]
  },
  {
   "cell_type": "code",
   "execution_count": 46,
   "metadata": {},
   "outputs": [
    {
     "name": "stdout",
     "output_type": "stream",
     "text": [
      "{'startup': '', 'running': '## Last commit: 2021-04-28 16:08:01 UTC by admin\\nversion 18.2R1.9;\\nsystem {\\n    login {\\n        user admin {\\n            uid 2000;\\n            class super-user;\\n            authentication {\\n                encrypted-password \"$6$ukN0oPH6$ROkx21kFHO.BypZKhWobl2J9PFeQczuw7LNDV.jxoyKdc6SQjQ11n.uTLqpnCInqQsxEpwevdJaiTD7m.ep4X0\";\\n            }\\n        }\\n    }\\n    root-authentication {\\n        encrypted-password \"$6$uW08fH4h$220gnu0E/j7YCtBhDCQ168VKU/DuT1vHo0ly6O64DSVukZAuHiXUFFBt.PI7Dmwc1hny6ZqdNBkmakoV/tVFS.\";\\n    }\\n    host-name vMX1;\\n    services {\\n        ssh {\\n            connection-limit 250;\\n        }\\n        netconf {\\n            ssh;\\n        }\\n    }\\n    syslog {\\n        inactive: user * {\\n            any emergency;\\n        }\\n        file messages {\\n            any notice;\\n            authorization info;\\n        }\\n        file interactive-commands {\\n            interactive-commands any;\\n        }\\n    }\\n    processes {\\n        dhcp-service {\\n            traceoptions {\\n                file dhcp_logfile size 10m;\\n                level all;\\n                flag packet;\\n            }\\n        }\\n    }\\n}\\ninterfaces {\\n    ge-0/0/0 {\\n        vlan-tagging;\\n        unit 10 {\\n            vlan-id 10;\\n            family inet {\\n                address 5.5.5.1/30;\\n            }\\n        }\\n        unit 100 {\\n            vlan-id 100;\\n            family inet {\\n                address 6.6.6.1/30;\\n            }\\n        }\\n    }\\n    fxp0 {\\n        unit 0 {\\n            family inet {\\n                address 192.168.68.231/24;\\n            }\\n        }\\n    }\\n    lo0 {\\n        unit 0 {\\n            family inet {\\n                address 1.1.1.1/32;\\n            }\\n        }\\n    }\\n}\\nrouting-options {\\n    static {\\n        route 0.0.0.0/0 next-hop 192.168.68.1;\\n    }\\n    autonomous-system 100;\\n}\\nprotocols {\\n    bgp {\\n        group ibgp {\\n            export export-loopback;\\n            neighbor 5.5.5.2 {\\n                peer-as 100;\\n            }\\n        }\\n        group ibgp2 {\\n            export export-loopback;\\n            peer-as 100;\\n            neighbor 6.6.6.2;\\n        }\\n    }\\n}\\npolicy-options {\\n    policy-statement export-loopback {\\n        term 1 {\\n            from interface lo0.0;\\n            then accept;\\n        }\\n        term 2 {\\n            then reject;\\n        }\\n    }\\n}', 'candidate': '## Last changed: 2021-04-28 16:08:01 UTC\\nversion 18.2R1.9;\\nsystem {\\n    login {\\n        user admin {\\n            uid 2000;\\n            class super-user;\\n            authentication {\\n                encrypted-password \"$6$ukN0oPH6$ROkx21kFHO.BypZKhWobl2J9PFeQczuw7LNDV.jxoyKdc6SQjQ11n.uTLqpnCInqQsxEpwevdJaiTD7m.ep4X0\";\\n            }\\n        }\\n    }\\n    root-authentication {\\n        encrypted-password \"$6$uW08fH4h$220gnu0E/j7YCtBhDCQ168VKU/DuT1vHo0ly6O64DSVukZAuHiXUFFBt.PI7Dmwc1hny6ZqdNBkmakoV/tVFS.\";\\n    }\\n    host-name vMX1;\\n    services {\\n        ssh {\\n            connection-limit 250;\\n        }\\n        netconf {\\n            ssh;\\n        }\\n    }\\n    syslog {\\n        inactive: user * {\\n            any emergency;\\n        }\\n        file messages {\\n            any notice;\\n            authorization info;\\n        }\\n        file interactive-commands {\\n            interactive-commands any;\\n        }\\n    }\\n    processes {\\n        dhcp-service {\\n            traceoptions {\\n                file dhcp_logfile size 10m;\\n                level all;\\n                flag packet;\\n            }\\n        }\\n    }\\n}\\ninterfaces {\\n    ge-0/0/0 {\\n        vlan-tagging;\\n        unit 10 {\\n            vlan-id 10;\\n            family inet {\\n                address 5.5.5.1/30;\\n            }\\n        }\\n        unit 100 {\\n            vlan-id 100;\\n            family inet {\\n                address 6.6.6.1/30;\\n            }\\n        }\\n    }\\n    fxp0 {\\n        unit 0 {\\n            family inet {\\n                address 192.168.68.231/24;\\n            }\\n        }\\n    }\\n    lo0 {\\n        unit 0 {\\n            family inet {\\n                address 1.1.1.1/32;\\n            }\\n        }\\n    }\\n}\\nrouting-options {\\n    static {\\n        route 0.0.0.0/0 next-hop 192.168.68.1;\\n    }\\n    autonomous-system 100;\\n}\\nprotocols {\\n    bgp {\\n        group ibgp {\\n            export export-loopback;\\n            neighbor 5.5.5.2 {\\n                peer-as 100;\\n            }\\n        }\\n        group ibgp2 {\\n            export export-loopback;\\n            peer-as 100;\\n            neighbor 6.6.6.2;\\n        }\\n    }\\n}\\npolicy-options {\\n    policy-statement export-loopback {\\n        term 1 {\\n            from interface lo0.0;\\n            then accept;\\n        }\\n        term 2 {\\n            then reject;\\n        }\\n    }\\n}'}\n"
     ]
    }
   ],
   "source": [
    "print(r1.get_config())"
   ]
  },
  {
   "cell_type": "code",
   "execution_count": 45,
   "metadata": {},
   "outputs": [
    {
     "data": {
      "text/plain": [
       "{'startup': '',\n",
       " 'running': '\\n\\n!! Last configuration change at Wed Apr 28 22:35:02 2021 by admin\\n!\\nhostname ASR9K\\nusername admin\\n group root-lr\\n group cisco-support\\n secret 5 $1$N9Vk$rj7RF/nqy46xB3zPfJGWs1\\n!\\nline default\\n session-timeout 10\\n!\\nvty-pool default 0 99\\ncall-home\\n service active\\n contact smart-licensing\\n profile CiscoTAC-1\\n  active\\n  destination transport-method http\\n !\\n!\\ninterface MgmtEth0/RP0/CPU0/0\\n ipv4 address 192.168.68.241 255.255.255.0\\n!\\ninterface GigabitEthernet0/0/0/0\\n!\\ninterface GigabitEthernet0/0/0/1\\n shutdown\\n!\\ninterface GigabitEthernet0/0/0/2\\n!\\ninterface GigabitEthernet0/0/0/3\\n shutdown\\n!\\nrouter static\\n address-family ipv4 unicast\\n  0.0.0.0/0 MgmtEth0/RP0/CPU0/0 192.168.68.1\\n !\\n!\\nxml agent tty\\n iteration off\\n!\\nxml agent\\n!\\nssh server vrf default\\nend',\n",
       " 'candidate': '\\n\\n!! Last configuration change at Wed Apr 28 22:35:02 2021 by admin\\n!\\nhostname ASR9K\\nusername admin\\n group root-lr\\n group cisco-support\\n secret 5 $1$N9Vk$rj7RF/nqy46xB3zPfJGWs1\\n!\\nline default\\n session-timeout 10\\n!\\nvty-pool default 0 99\\ncall-home\\n service active\\n contact smart-licensing\\n profile CiscoTAC-1\\n  active\\n  destination transport-method http\\n !\\n!\\ninterface MgmtEth0/RP0/CPU0/0\\n ipv4 address 192.168.68.241 255.255.255.0\\n!\\ninterface GigabitEthernet0/0/0/0\\n!\\ninterface GigabitEthernet0/0/0/1\\n shutdown\\n!\\ninterface GigabitEthernet0/0/0/2\\n!\\ninterface GigabitEthernet0/0/0/3\\n shutdown\\n!\\nrouter static\\n address-family ipv4 unicast\\n  0.0.0.0/0 MgmtEth0/RP0/CPU0/0 192.168.68.1\\n !\\n!\\nxml agent tty\\n iteration off\\n!\\nxml agent\\n!\\nssh server vrf default\\nend'}"
      ]
     },
     "execution_count": 45,
     "metadata": {},
     "output_type": "execute_result"
    }
   ],
   "source": [
    "r2.get_config()"
   ]
  },
  {
   "cell_type": "code",
   "execution_count": null,
   "metadata": {},
   "outputs": [],
   "source": []
  },
  {
   "cell_type": "code",
   "execution_count": 47,
   "metadata": {},
   "outputs": [],
   "source": [
    "v = r2.get_interfaces_counters()\n"
   ]
  },
  {
   "cell_type": "code",
   "execution_count": 48,
   "metadata": {},
   "outputs": [
    {
     "data": {
      "text/plain": [
       "{'GigabitEthernet0/0/0/0': {'tx_multicast_packets': 0,\n",
       "  'tx_discards': 0,\n",
       "  'tx_octets': 0,\n",
       "  'tx_errors': 0,\n",
       "  'rx_octets': 0,\n",
       "  'tx_unicast_packets': 0,\n",
       "  'rx_errors': 0,\n",
       "  'tx_broadcast_packets': 0,\n",
       "  'rx_multicast_packets': 0,\n",
       "  'rx_broadcast_packets': 0,\n",
       "  'rx_discards': 0,\n",
       "  'rx_unicast_packets': 0},\n",
       " 'GigabitEthernet0/0/0/1': {'tx_multicast_packets': 0,\n",
       "  'tx_discards': 0,\n",
       "  'tx_octets': 0,\n",
       "  'tx_errors': 0,\n",
       "  'rx_octets': 0,\n",
       "  'tx_unicast_packets': 0,\n",
       "  'rx_errors': 0,\n",
       "  'tx_broadcast_packets': 0,\n",
       "  'rx_multicast_packets': 0,\n",
       "  'rx_broadcast_packets': 0,\n",
       "  'rx_discards': 0,\n",
       "  'rx_unicast_packets': 0},\n",
       " 'GigabitEthernet0/0/0/2': {'tx_multicast_packets': 0,\n",
       "  'tx_discards': 0,\n",
       "  'tx_octets': 0,\n",
       "  'tx_errors': 0,\n",
       "  'rx_octets': 0,\n",
       "  'tx_unicast_packets': 0,\n",
       "  'rx_errors': 0,\n",
       "  'tx_broadcast_packets': 0,\n",
       "  'rx_multicast_packets': 0,\n",
       "  'rx_broadcast_packets': 0,\n",
       "  'rx_discards': 0,\n",
       "  'rx_unicast_packets': 0},\n",
       " 'GigabitEthernet0/0/0/3': {'tx_multicast_packets': 0,\n",
       "  'tx_discards': 0,\n",
       "  'tx_octets': 0,\n",
       "  'tx_errors': 0,\n",
       "  'rx_octets': 0,\n",
       "  'tx_unicast_packets': 0,\n",
       "  'rx_errors': 0,\n",
       "  'tx_broadcast_packets': 0,\n",
       "  'rx_multicast_packets': 0,\n",
       "  'rx_broadcast_packets': 0,\n",
       "  'rx_discards': 0,\n",
       "  'rx_unicast_packets': 0},\n",
       " 'MgmtEth0/RP0/CPU0/0': {'tx_multicast_packets': 0,\n",
       "  'tx_discards': 0,\n",
       "  'tx_octets': 3224749,\n",
       "  'tx_errors': 0,\n",
       "  'rx_octets': 4130871,\n",
       "  'tx_unicast_packets': 25665,\n",
       "  'rx_errors': 0,\n",
       "  'tx_broadcast_packets': 0,\n",
       "  'rx_multicast_packets': 356,\n",
       "  'rx_broadcast_packets': 46992,\n",
       "  'rx_discards': 356,\n",
       "  'rx_unicast_packets': 56751},\n",
       " 'Null0': {'tx_multicast_packets': 0,\n",
       "  'tx_discards': 0,\n",
       "  'tx_octets': 0,\n",
       "  'tx_errors': 0,\n",
       "  'rx_octets': 0,\n",
       "  'tx_unicast_packets': 0,\n",
       "  'rx_errors': 0,\n",
       "  'tx_broadcast_packets': 0,\n",
       "  'rx_multicast_packets': 0,\n",
       "  'rx_broadcast_packets': 0,\n",
       "  'rx_discards': 0,\n",
       "  'rx_unicast_packets': 0}}"
      ]
     },
     "execution_count": 48,
     "metadata": {},
     "output_type": "execute_result"
    }
   ],
   "source": [
    "v"
   ]
  },
  {
   "cell_type": "code",
   "execution_count": null,
   "metadata": {},
   "outputs": [],
   "source": [
    "# to get the running config\n",
    "x = r1.get_config()"
   ]
  },
  {
   "cell_type": "code",
   "execution_count": 49,
   "metadata": {},
   "outputs": [],
   "source": [
    "driver_r4 = get_network_driver('ios')\n",
    "r4 = driver_r4(hostname='121.74.1.4', username='admin', password='admin123', optional_args={'port':2024})"
   ]
  },
  {
   "cell_type": "code",
   "execution_count": 50,
   "metadata": {},
   "outputs": [],
   "source": [
    "r4.open()"
   ]
  },
  {
   "cell_type": "code",
   "execution_count": 51,
   "metadata": {},
   "outputs": [
    {
     "data": {
      "text/plain": [
       "{'uptime': 44940,\n",
       " 'vendor': 'Cisco',\n",
       " 'os_version': 'Virtual XE Software (X86_64_LINUX_IOSD-UNIVERSALK9-M), Version 16.9.1, RELEASE SOFTWARE (fc2)',\n",
       " 'serial_number': '9VH2282QS2T',\n",
       " 'model': 'CSR1000V',\n",
       " 'hostname': 'CSR1',\n",
       " 'fqdn': 'CSR1.home.com',\n",
       " 'interface_list': ['GigabitEthernet1',\n",
       "  'GigabitEthernet2',\n",
       "  'GigabitEthernet3',\n",
       "  'GigabitEthernet4']}"
      ]
     },
     "execution_count": 51,
     "metadata": {},
     "output_type": "execute_result"
    }
   ],
   "source": [
    "r4.get_facts()"
   ]
  },
  {
   "cell_type": "code",
   "execution_count": 52,
   "metadata": {},
   "outputs": [
    {
     "data": {
      "text/plain": [
       "'CSR1000V'"
      ]
     },
     "execution_count": 52,
     "metadata": {},
     "output_type": "execute_result"
    }
   ],
   "source": [
    "r4.get_facts()[\"model\"]"
   ]
  },
  {
   "cell_type": "markdown",
   "metadata": {},
   "source": [
    "### Applying configuration from text file"
   ]
  },
  {
   "cell_type": "code",
   "execution_count": 53,
   "metadata": {},
   "outputs": [],
   "source": [
    "\n",
    "r4.load_merge_candidate(filename='configs.txt')"
   ]
  },
  {
   "cell_type": "code",
   "execution_count": 54,
   "metadata": {},
   "outputs": [
    {
     "name": "stdout",
     "output_type": "stream",
     "text": [
      "+router ospf 1\n",
      "+network 10.10.10.0 0.0.0.255 area 1\n"
     ]
    }
   ],
   "source": [
    "print(r4.compare_config())"
   ]
  },
  {
   "cell_type": "code",
   "execution_count": 55,
   "metadata": {},
   "outputs": [],
   "source": [
    "r4.discard_config()"
   ]
  },
  {
   "cell_type": "code",
   "execution_count": 56,
   "metadata": {},
   "outputs": [
    {
     "name": "stdout",
     "output_type": "stream",
     "text": [
      "\n"
     ]
    }
   ],
   "source": [
    "print(r4.compare_config())"
   ]
  },
  {
   "cell_type": "code",
   "execution_count": 57,
   "metadata": {},
   "outputs": [],
   "source": [
    "r4.load_merge_candidate(filename='configs.txt')"
   ]
  },
  {
   "cell_type": "code",
   "execution_count": 58,
   "metadata": {},
   "outputs": [
    {
     "name": "stdout",
     "output_type": "stream",
     "text": [
      "+router ospf 1\n",
      "+network 10.10.10.0 0.0.0.255 area 1\n"
     ]
    }
   ],
   "source": [
    "print(r4.compare_config())"
   ]
  },
  {
   "cell_type": "code",
   "execution_count": 59,
   "metadata": {},
   "outputs": [],
   "source": [
    "# Commit the configuration\n",
    "r4.commit_config()"
   ]
  },
  {
   "cell_type": "code",
   "execution_count": 61,
   "metadata": {},
   "outputs": [],
   "source": [
    "# Rollback the configuration\n",
    "r4.rollback()"
   ]
  },
  {
   "cell_type": "code",
   "execution_count": null,
   "metadata": {},
   "outputs": [],
   "source": []
  },
  {
   "cell_type": "code",
   "execution_count": null,
   "metadata": {},
   "outputs": [],
   "source": []
  },
  {
   "cell_type": "markdown",
   "metadata": {},
   "source": [
    "# Junos PyEZ"
   ]
  },
  {
   "cell_type": "code",
   "execution_count": null,
   "metadata": {},
   "outputs": [],
   "source": [
    "# Create a device instance and connect to the device\n",
    "from jnpr.junos import Device"
   ]
  },
  {
   "cell_type": "code",
   "execution_count": null,
   "metadata": {},
   "outputs": [],
   "source": [
    "r1 = Device(host='121.74.1.4',user='admin',password='admin123', port='2021')"
   ]
  },
  {
   "cell_type": "code",
   "execution_count": null,
   "metadata": {},
   "outputs": [],
   "source": [
    "r1.open()"
   ]
  },
  {
   "cell_type": "code",
   "execution_count": null,
   "metadata": {},
   "outputs": [],
   "source": [
    "r1.facts"
   ]
  },
  {
   "cell_type": "code",
   "execution_count": null,
   "metadata": {},
   "outputs": [],
   "source": [
    "version_info = r1.rpc.get_software_information({'format': 'json'})"
   ]
  },
  {
   "cell_type": "code",
   "execution_count": null,
   "metadata": {},
   "outputs": [],
   "source": [
    "type(version_info)"
   ]
  },
  {
   "cell_type": "code",
   "execution_count": null,
   "metadata": {},
   "outputs": [],
   "source": [
    "version_info"
   ]
  },
  {
   "cell_type": "code",
   "execution_count": null,
   "metadata": {},
   "outputs": [],
   "source": []
  },
  {
   "cell_type": "code",
   "execution_count": null,
   "metadata": {},
   "outputs": [],
   "source": [
    "response = r1.rpc.get_bgp_summary_information({'format': 'json'})"
   ]
  },
  {
   "cell_type": "code",
   "execution_count": null,
   "metadata": {},
   "outputs": [],
   "source": [
    "response"
   ]
  },
  {
   "cell_type": "code",
   "execution_count": null,
   "metadata": {},
   "outputs": [],
   "source": []
  },
  {
   "cell_type": "code",
   "execution_count": null,
   "metadata": {},
   "outputs": [],
   "source": []
  }
 ],
 "metadata": {
  "kernelspec": {
   "display_name": "Python 3",
   "language": "python",
   "name": "python3"
  },
  "language_info": {
   "codemirror_mode": {
    "name": "ipython",
    "version": 3
   },
   "file_extension": ".py",
   "mimetype": "text/x-python",
   "name": "python",
   "nbconvert_exporter": "python",
   "pygments_lexer": "ipython3",
   "version": "3.6.5"
  }
 },
 "nbformat": 4,
 "nbformat_minor": 2
}
